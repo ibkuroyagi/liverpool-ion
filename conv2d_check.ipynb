{
 "cells": [
  {
   "cell_type": "code",
   "execution_count": 35,
   "metadata": {},
   "outputs": [
    {
     "output_type": "stream",
     "name": "stdout",
     "text": "The autoreload extension is already loaded. To reload it, use:\n  %reload_ext autoreload\ncpu\n"
    }
   ],
   "source": [
    "import sys\n",
    "import random\n",
    "import numpy as np\n",
    "import pandas as pd\n",
    "import matplotlib.pyplot as plt\n",
    "from wavenet import *\n",
    "from sklearn.model_selection import StratifiedKFold, KFold\n",
    "import os\n",
    "from tqdm import tqdm_notebook as tqdm\n",
    "from torch.utils.data import TensorDataset, DataLoader\n",
    "%load_ext autoreload\n",
    "%matplotlib inline\n",
    "%precision 3\n",
    "# device = \"cuda\" if torch.cuda.is_available() else \"cpu\"\n",
    "device = \"cpu\"\n",
    "print(device)\n",
    "BATCH_SIZE = 8\n",
    "SEED = 42\n",
    "\n",
    "# if you need to reload to apply changeing function, you can use this \n",
    "%autoreload"
   ]
  },
  {
   "cell_type": "code",
   "execution_count": 10,
   "metadata": {},
   "outputs": [],
   "source": [
    "B_Z = pd.read_csv(\"B4_Z.csv\", index_col=0).T\n",
    "feature_cols = list(B_Z.columns[:-1])\n",
    "target_col = B_Z.columns[-1]\n",
    "print(feature_cols, target_col)"
   ]
  },
  {
   "cell_type": "code",
   "execution_count": 32,
   "metadata": {},
   "outputs": [
    {
     "output_type": "stream",
     "name": "stdout",
     "text": "(99, 200, 49) (34, 200, 49)\n(99, 200) (34, 200)\n"
    }
   ],
   "source": [
    "look_back = 200\n",
    "x_df = B_Z\n",
    "x_df = x_df.iloc[:(x_df.shape[0]//look_back)*look_back]\n",
    "x_df[\"group\"] = x_df.groupby(x_df.index.astype(int) // look_back, sort=False)[0].agg(['ngroup']).values\n",
    "x_df['group'] = x_df['group'].astype(np.uint16)\n",
    "X = np.array(list(x_df.groupby('group').apply(lambda x: x[feature_cols].values)))\n",
    "l = len(X)\n",
    "train_X = X[:int(l*0.75)]\n",
    "test_X = X[int(l*0.75):]\n",
    "y = np.array(list(x_df.groupby('group').apply(lambda x: x[target_col].values)))\n",
    "train_y = y[:int(l*0.75)]\n",
    "test_y = y[int(l*0.75):]\n",
    "print(train_X.shape, test_X.shape)\n",
    "print(train_y.shape, test_y.shape)"
   ]
  },
  {
   "cell_type": "code",
   "execution_count": 44,
   "metadata": {},
   "outputs": [],
   "source": [
    "class MyDataset(torch.utils.data.Dataset):\n",
    "\n",
    "    def __init__(self, X, y):\n",
    "        self.X = X\n",
    "        self.y = y\n",
    "\n",
    "    def __len__(self):\n",
    "        return len(self.X)\n",
    "\n",
    "    def __getitem__(self, idx):\n",
    "        return self.X[idx], self.y[idx]\n",
    "train_dataset = MyDataset(train_X, train_y)\n",
    "test_dataset = MyDataset(test_X, test_y)\n",
    "train_loader = DataLoader(train_dataset, batch_size=8, shuffle=True)\n",
    "test_loader = DataLoader(test_dataset, batch_size=8, shuffle=False)"
   ]
  },
  {
   "cell_type": "code",
   "execution_count": 47,
   "metadata": {},
   "outputs": [
    {
     "output_type": "execute_result",
     "data": {
      "text/plain": "(99, 200, 49)"
     },
     "metadata": {},
     "execution_count": 47
    }
   ],
   "source": [
    "X, y = train_loader.next()\n"
   ]
  },
  {
   "cell_type": "code",
   "execution_count": null,
   "metadata": {},
   "outputs": [],
   "source": []
  }
 ],
 "metadata": {
  "language_info": {
   "codemirror_mode": {
    "name": "ipython",
    "version": 3
   },
   "file_extension": ".py",
   "mimetype": "text/x-python",
   "name": "python",
   "nbconvert_exporter": "python",
   "pygments_lexer": "ipython3",
   "version": "3.6.8-final"
  },
  "orig_nbformat": 2,
  "kernelspec": {
   "name": "python36864bitpy36virtualenv1282f2306817482c86ec5e4cdfa22dfd",
   "display_name": "Python 3.6.8 64-bit ('py36': virtualenv)"
  }
 },
 "nbformat": 4,
 "nbformat_minor": 2
}